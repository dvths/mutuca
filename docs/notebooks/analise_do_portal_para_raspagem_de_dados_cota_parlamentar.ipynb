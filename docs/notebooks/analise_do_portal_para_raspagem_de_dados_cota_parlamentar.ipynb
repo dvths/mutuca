{
 "cells": [
  {
   "cell_type": "markdown",
   "id": "8a1d86cf-3eea-4889-b116-cf71a0083353",
   "metadata": {},
   "source": [
    "# Análise do portal da transparencia da Câmara Lesgislativa de Caruaru para raspagem de dados referentes à Cota Parlamentar"
   ]
  },
  {
   "cell_type": "markdown",
   "id": "eea015c7-28d2-4b37-b05f-5a70c4919c4d",
   "metadata": {},
   "source": [
    "data de inicio: 2023-09-01\n",
    "\n",
    "data de conclusão: 2023-09-10"
   ]
  },
  {
   "cell_type": "markdown",
   "id": "c1042d4a-6d68-4721-a7d5-176be67f4e40",
   "metadata": {},
   "source": [
    "## Descrição\n",
    "\n",
    "Em 17 de Fevereiro de 2022, a Câmara de Vereadores de Caruaru aprovou o Projeto de Lei Complementar nº 114/2022, que estabelece uma série de mudanças no orçamento interno da casa, entre elas, a criação de uma cota de alimentação e combustível para o exercício da atividade parlamentar dos 23 vereadores do município de até `R$` 2000,00 além de uma verba de até `R$` 9000,00 para despesas da presidência da câmara.  \n",
    "\n",
    "O projeto foi apresentado pela Mesa Diretora sob a justificativa de ser necessária devido, principalmente, \"aos impáctos orçamentários no duodécimo de 2021\" que, segundo o presidente da câmara de vereadores, Bruno Lambreta (PSDB), [em entrevista à radio CBN de Caruaru](https://www.cbncaruaru.com/artigo/presidente-da-camara-de-vereadores-de-caruaru-responde-a-polemicas-envolvendo-projeto-de-cotas-parlamentares), \"teria sofrido uma queda de 4.8%\". Ainda de acordo com Lambreta, outra medida necessária seria o reajuste dos salários dos servidores que, segundo ele, não eram reajustados desde 2014.\n",
    "\n",
    "Por fim, o projeto também permite que os vereadores e acessores reajustem valores de gratificações e diárias. O salário atual de um vereador é de R$ 15000,00"
   ]
  },
  {
   "cell_type": "markdown",
   "id": "0c34e762-f37b-4055-ad40-4097c07cbaaf",
   "metadata": {},
   "source": [
    "## Objetivos"
   ]
  },
  {
   "cell_type": "markdown",
   "id": "f387f184-17a4-4b00-907e-8a80970962d4",
   "metadata": {},
   "source": [
    "- [x] Obter a url de todos os arquivos pdf que contém os dados do consumo da cota parlamentar vereadores do município de Caruaru.\n",
    "- [ ] Baixar e extrair os dados do arquivo pdf para um formato tabular.\n"
   ]
  },
  {
   "cell_type": "markdown",
   "id": "49d87a21-d5c1-4acb-b609-99f1cfb3a9d8",
   "metadata": {},
   "source": [
    "## Páginas"
   ]
  },
  {
   "cell_type": "markdown",
   "id": "ceb92ff7-c376-4127-89fd-a86aa55aadec",
   "metadata": {},
   "source": [
    "|NOME|URL|IMAGEM EXEMPLO|\n",
    "|----|---|-----------|\n",
    "|Página inicial|https://transparenciape.com.br/CamaraCaruaru/index.php|<img src=\"../img/Screenshot_2023-09-06-16-40-35_pagina_inicial.png\"></img>|\n",
    "|Cota para atividade parlamentar/Verba Idenizatória|https://transparenciape.com.br/CamaraCaruaru/cotaAtividadeParlamentar.php|<img src=\"../img/2023-09-01_18-32-cota-para-atividade-parlamentar.jpg\"></img>|\n"
   ]
  },
  {
   "cell_type": "markdown",
   "id": "c97beb45-d904-4d1d-bcdf-8afcc26ebc88",
   "metadata": {},
   "source": [
    "## Mapeamento dos elementos de Interesse"
   ]
  },
  {
   "cell_type": "markdown",
   "id": "18c8d2d5-eb12-41f7-b71a-b2bba016a043",
   "metadata": {},
   "source": [
    "### Tabela de Dados"
   ]
  },
  {
   "cell_type": "markdown",
   "id": "b078f354-9a5f-424c-890b-567bbcf0d32d",
   "metadata": {},
   "source": [
    "As informações de interesse são acessadas através da tabela de dados. Quando a página é carregada, podemos navegar até o elemento `table` seguindo o caminho `//table[@id=\"tabelaDados`."
   ]
  },
  {
   "cell_type": "markdown",
   "id": "4f41205b-0389-4570-9f8c-5c71b510f66b",
   "metadata": {},
   "source": [
    "![elemento de interesse 1](../img/2023-09-03_20-02-elemento_de_interesse_1.png)"
   ]
  },
  {
   "cell_type": "markdown",
   "id": "e01bbcb4-4735-4c1d-8034-1e59bf1a047a",
   "metadata": {},
   "source": [
    "### Botões de Acesso ao documento"
   ]
  },
  {
   "cell_type": "markdown",
   "id": "af206383-87a5-4e1f-be77-49fd3abfd718",
   "metadata": {},
   "source": [
    "Os dados da tabela apresentada na página em si não são relevantes, assim como os arquivos gerados pelos botões \"Gerar PDF,\" \"Gerar XLS,\" e \"Gerar CSV.\" Esses elementos produzem as mesmas informações apresentadas na tabela da página, ou seja, não fornecem novos dados, mas exatamente as informações presentes na tabela do site. Você pode verificar um exemplo desses arquivos no diretório example_files.\n",
    "\n",
    "O que estamos buscando são as informações contidas nos arquivos PDF que podem ser obtidos ao clicar no botão \"acessar arquivo\" na coluna \"AÇÕES\" da tabela. Portanto, este é o segundo elemento de interesse. A URL do arquivo é passada como argumento para a função `window.open()` no atributo `onclick` do elemento `button`. O endpoint da URL é um documento PDF com o que parece ser um hash que identifica o arquivo. Ao clicar no botão, somos redirecionados para uma nova janela onde podemos baixar o PDF. Para localizar os 10 botões de cada página da tabela, por exemplo, o XPath é o seguinte: `//table[@id=\"tabelaDados\"]//button[@class=\"btn btn-info btn-xs command-edit\"]`:"
   ]
  },
  {
   "cell_type": "markdown",
   "id": "d58a1318-3b55-448d-a73b-54031c91105c",
   "metadata": {},
   "source": [
    "![elemento 2](../img/2023-09-03_20-14-elemento_de_interesse_2.png)"
   ]
  },
  {
   "cell_type": "markdown",
   "id": "94974f49-2737-4258-ad8f-210452ff7ea0",
   "metadata": {},
   "source": [
    "### Obtendo o documento"
   ]
  },
  {
   "cell_type": "markdown",
   "id": "81f256bd-899e-4c3e-b540-ae1645f1c906",
   "metadata": {},
   "source": [
    "Ao realizar a requisição para o arquivo pdf, clicando no botão \"acessar arquivo\", verificamos que a url é a mesma passada para `window.open()` : `http://transparencia.caruaru.pe.leg.br/sistema/uploads/cotas/{id_arquivo}`"
   ]
  },
  {
   "cell_type": "markdown",
   "id": "9a047f6a-4d85-4f11-abca-07c1fb12cc3d",
   "metadata": {},
   "source": [
    "![Requisição](../img/2023-09-03_00-09-requisição.png)"
   ]
  },
  {
   "cell_type": "markdown",
   "id": "18985a51-6483-4bf9-9f05-056583cfd9fb",
   "metadata": {},
   "source": [
    "Esta é a requisição chave para obtermos o arquivo de dados que desejamos. Contudo, clicar em cada botão é contra produtivo. Além disso, até o momento da redação desse estudo, quando selecionamos um mês qualquer na caixa \"Filtros de Consulta\", estranhamente somos enviados para outra página, \"Folha de Pagamentos\" que, no momento, não nos interessa. Portanto, é fundamental entendermos qual a melhor forma de obermos a url chave investigando mais a fundo como esse site funciona. "
   ]
  },
  {
   "cell_type": "markdown",
   "id": "f1e651e4-018c-4f14-8ccf-58f91fdd1b02",
   "metadata": {},
   "source": [
    "### Código fonte da página"
   ]
  },
  {
   "cell_type": "markdown",
   "id": "58a691ba-9225-4f5f-bf57-d5c711c39bb3",
   "metadata": {},
   "source": [
    "Minha primeira intuição para uma estratégia de raspagem, basicamente, seria raspar todos os elementos `button` da tabela, depois extrair a url referente ao documento da função `window.opent()` com uma expressão regular com o intuito de, por fim, utilizar essa url limpa para realizar as requisições de cada documento. Porém, ao desabilitar o JavaScript* do navegador, percebemos que a tabela não é renderizada, ou seja, é um recurso interativo dependente de um script que busca os dados no backend para montá-la. \n",
    "\n",
    "`Ctrl+Shift+P` para abrir a paleta de comandos do inspetor. Procure por \"Desativar JavaScript\": \n",
    "![dasativar_javascript](../img/2023-09-10_18-49-destivar_javascript.png)\n",
    "\n",
    "Ao atualizarmos a página, vemos que a tabela não é carregada: \n",
    "![desabilita_js](../img/2023-09-08_00-16-desabilita_js.png)\n",
    "\n"
   ]
  },
  {
   "cell_type": "markdown",
   "id": "07dbabbf-8c60-447f-a879-69b69cbff83f",
   "metadata": {},
   "source": [
    "Uma outra forma de checar isso sem desativar o JavaScript é analisando o código fonte da página. Buscando pelo ID do elemento `table`, \"tabelaDados\", encontramos a estrutura HTML que apenas renderiza o cabeçalho da tabela:"
   ]
  },
  {
   "cell_type": "markdown",
   "id": "d28f2cc8-c33e-4b83-991c-fc120f8da380",
   "metadata": {},
   "source": [
    "![font](../img/2023-09-03_18-32-codigo_fonte.png)"
   ]
  },
  {
   "cell_type": "markdown",
   "id": "f1ffe2c9-414e-40fa-8e70-37f110e1e32b",
   "metadata": {},
   "source": [
    "Scripts, geralmente, serão executados quando a página inteira estiver rederizada, por isso é comum que sejam as últimas tags em uma estrutura HTML. Neste caso não é diferente. As próximas imagens mostram o script que configura a tabela interativa que nos levará até o documento que buscamos. \n",
    "\n",
    "Podemos dividir esse script em 4 partes: \n",
    "\n",
    "1. O código está encapsulado em uma função anônima que é executada quando o documento HTML é carregado completamente (quando o DOM está pronto). Isso é feito usando `$(function() {...});`, que é uma abreviação do jQuery para o evento `$(document).ready()`. \n",
    "\n",
    "Ele configura uma tabela no elemento `table` com ID \"tabelaDados\" usando o plugin bootgrid. Bootgrid é um plugin jQuery para criar tabelas interativas com recursos de pesquisa, ordenação e paginação.\n",
    "\n",
    "A tabela bootgrid é configurada com várias opções, como a **configuração de [AJAX](https://developer.mozilla.org/pt-BR/docs/Web/Guide/AJAX)** para buscar dados do servidor sem a necessidade de recarregar a página inteira, permitindo a seleção de linhas, definindo uma função para enviar dados extras para o servidor, **especificando a URL de onde os dados serão buscados**, **formatando as células da coluna \"commands\" para criar um botão que abre um arquivo em uma nova janela** e definindo uma mensagem de \"nenhum resultado\" personalizada.\n",
    "\n",
    "2. Define o atributo \"placeholder\" do elemento com o ID \"search-field\" para \"Procure por data ou descrição.\" Isso é usado para fornecer uma dica de pesquisa na caixa de entrada. Também configura elementos de entrada de data usando o plugin \"datepicker\" do jQuery para fornecer uma interface de seleção de data amigável ao usuário.\n"
   ]
  },
  {
   "cell_type": "markdown",
   "id": "b75a3828-3b0e-42a8-a016-c16b72debf21",
   "metadata": {},
   "source": [
    "![script1](../img/2023-09-03_19-37-script_explain.png)"
   ]
  },
  {
   "cell_type": "markdown",
   "id": "88a658dd-960f-4cf5-a885-cf878c3cc209",
   "metadata": {},
   "source": [
    "3. Fora da função anônima, há algumas funções adicionais:\n",
    "\n",
    "    3.1 `gerarData(str)`: Esta função divide uma string de data no formato \"dd/mm/yyyy\" em partes e cria um objeto de data JavaScript correspondente.\n",
    "\n",
    "    3.2 `verificar()`: Esta função verifica se a data final é maior do que a data inicial e exibe uma mensagem de erro se não for.\n",
    "\n",
    "4. `gerarPDF()`, `gerarXLS()`, `gerarCSV()`: Essas funções são chamadas quando os usuários clicam em botões para gerar arquivos PDF, XLS (Excel) ou CSV. Elas constroem URLs com parâmetros de pesquisa e abrem esses URLs em uma nova janela."
   ]
  },
  {
   "cell_type": "markdown",
   "id": "66bbd7eb-5cf0-4bea-b3a3-c3391ecb5c1f",
   "metadata": {},
   "source": [
    "![script1](../img/2023-09-03_19-37-script_explain1.png)"
   ]
  },
  {
   "cell_type": "markdown",
   "id": "154521e6-a3ad-44f6-8d68-61bfc9c7a05a",
   "metadata": {},
   "source": [
    "De forma resumida, assim que a requisição é feita para a url `https://transparenciape.com.br/CamaraCaruaru/cotaAtividadeParlamentar.php` uma segunda requisição é realizada à um banco de dados para obter as informações necessárias para preencher a tabela. Esta segunda requisição é feita de forma assíncrona graças ao modelo AJAX implementado, ou seja, recebemos sua resposta independentemente da resposta da requisição ao servidor onde a página está hospedada (supondo que esteja em um servidor diferente). Isso faz sentido porque o script precisa das informações acessíveis para montar a tabela. Note que, para montar a url fornecida para função `window.open()`, o script concatena parte de uma url com uma certa propriedade `row.arquivo`, indicando que a resposta da requisição assíncrona possui um campo chamado `arquivo` cujo valor, provavelmente, é aquela sequencia numérica de extenção `.pdf` que vemos no final da url. \n",
    "\n",
    "Portanto, o próximo passo é checar as requisições e encontrar a fonte dos dados utilizados pelo script para preencer a tabela."
   ]
  },
  {
   "cell_type": "markdown",
   "id": "47cd9a5b-2dbc-4b56-9aee-bf0a798a1cd9",
   "metadata": {},
   "source": [
    "## Analisando as Requisições"
   ]
  },
  {
   "cell_type": "markdown",
   "id": "bd43db4b-49ee-412f-a5e8-13a06800fc04",
   "metadata": {},
   "source": [
    "Ao analisar as requisições feitas, encontramos o arquivo `xhr` que  é a resposta da requisição assíncrona (AJAX) realizada no momento da requisição inicial para fornecer as informações que serão usadas pra montar a tabela:"
   ]
  },
  {
   "cell_type": "markdown",
   "id": "f3890fb2-331e-45b0-924b-43acf9db5a12",
   "metadata": {},
   "source": [
    "![json](../img/2023-09-04_22-59-requisição_documentos.png)"
   ]
  },
  {
   "cell_type": "markdown",
   "id": "32c0ff19-10d6-4d01-89f5-7d2f98733c09",
   "metadata": {},
   "source": [
    "### XMLHttpRequest\n",
    "O arquivo xhr refere-se a um objeto [`XMLHttpRequest`](https://developer.mozilla.org/pt-BR/docs/Web/API/XMLHTTPRequest), que oferece a facilidade de transmitir dados entre o cliente e o servidor sem a necessidade de atualizar a página inteira. Em outras palavras, ele permite que uma página da web atualize apenas parte de seu conteúdo sem interromper o que o usuário está fazendo. O objeto XMLHttpRequest envia solicitações a um servidor e recebe respostas em formatos como texto, XML, JSON ou outros, dependendo do tipo de dados solicitados. É também amplamente utilizado na programação AJAX.\n",
    "\n",
    "Se observarmos a resposta, veremos que, embora o Content-Type indique que recebemos um documento text/html, na verdade, podemos verificar que o formato da resposta é JSON:\n",
    "\n",
    "![resposta](../img/2023-09-10_22-34-cabeçalho_resposta.png)\n",
    "\n",
    "![resposta_json](../img/2023-09-05_01-26-resposta_json.png)\n",
    "\n",
    "É provável que lógica da API que está gerando a resposta possa estar configurada de forma inadequada e enviando os dados no formato JSON, mas não definindo o cabeçalho Content-Type corretamente. Contudo, isso não impede de avançarmos."
   ]
  },
  {
   "cell_type": "markdown",
   "id": "9c0e5f63-1455-4a38-8aee-bda0ac8f152a",
   "metadata": {},
   "source": [
    "### Acesso direto aos dados"
   ]
  },
  {
   "cell_type": "markdown",
   "id": "977bba23-b839-49f1-9f00-68b03b5af8b5",
   "metadata": {},
   "source": [
    "Agora, temos acesso à url da requisição `xhr`:"
   ]
  },
  {
   "cell_type": "markdown",
   "id": "25fbd010-76f0-443c-99c3-4091e40dd3c6",
   "metadata": {},
   "source": [
    "![url_assync](../img/2023-09-04_23-05-querie_string_xhr.png)"
   ]
  },
  {
   "cell_type": "markdown",
   "id": "45a09d58-b0e1-4620-9db2-7cf7e8b4dc60",
   "metadata": {},
   "source": [
    "Tudo indica que, com essa informação em mãos, podemos requisitar os dados diretamente ao servidor sem necessáriamente interagir com a página em si. Note que é enviada uma série de parâmetros de consulta ao servidor. Decompondo a url, temos:\n",
    "\n",
    "- `https://transparenciape.com.br`: Este é o esquema e o domínio da URL. \"https://\" indica que está sendo usado o protocolo seguro HTTPS para a comunicação, e \"transparenciape.com.br\" é o nome de domínio do site ao qual se está acessando.\n",
    "\n",
    "- `/CamaraCaruaru/cotaAtividadeParlamentarClass.php`: Esta parte da URL indica o caminho no servidor ao qual estamos acessando. .\n",
    "\n",
    "    - `?dataInicial=01/01/2000&dataFinal=06/09/2023&current=1&rowCount=10&sort%5Bdata_publicacao_f%5D=desc&searchPhrase=&id=b0df282a-0d67-40e5-8558-c9e93b7befed`: Esta é a parte da URL que contém os parâmetros da consulta ou solicitação que são enviados ao servidor para que ele retorne informações específicas. Aqui estão vários parâmetros separados por \"&\". Os parâmetros incluem:\n",
    "    \n",
    "    - `dataInicial=01/01/2000`: Isso indica uma data de início, acredito que 1 de janeiro de 2000 seja uma data definida arbitrariamente, pois não existem dados dessa data.\n",
    "    -  `dataFinal=06/09/2023`: Isso indica uma data de término. Por padrão essa é a mesma data da requisição (no caso, minha requisição foi 06/09).\n",
    "    - `current=1`: Parece ser um parâmetro que indica a página atual ou o número da página na consulta. Neste caso, está definido como 1.\n",
    "    - `rowCount=10`: Indica a quantidade de linhas ou elementos que devem ser exibidos em cada página. Aqui, está definido como 10.\n",
    "    - `sort%5Bdata_publicacao_f%5D=desc`: Parece ser um parâmetro de ordenação que indica como os resultados devem ser ordenados. Neste caso, parece estar ordenando pela data de publicação em ordem decrescente (do mais novo para o mais antigo).\n",
    "    - `searchPhrase=`: Este parâmetro parece estar vazio, o que pode indicar que não está sendo feita uma pesquisa específica nesta solicitação.\n",
    "    - `id=b0df282a-0d67-40e5-8558-c9e93b7befed`: Este parâmetro parece ser um identificador único ou código que é usado na solicitação, mas o seu propósito específico não está claro sem mais contexto... isso, talvez a gente nunca vá saber."
   ]
  },
  {
   "cell_type": "markdown",
   "id": "5cd997a7-9fdc-4d81-890a-525d703f7042",
   "metadata": {},
   "source": [
    "Para testar essa hipótese, vamos fazer uma solicitação usando a mesma url:"
   ]
  },
  {
   "cell_type": "code",
   "execution_count": 1,
   "id": "8bd24681-6a98-4092-84d2-aefcae92071d",
   "metadata": {},
   "outputs": [],
   "source": [
    "import requests"
   ]
  },
  {
   "cell_type": "code",
   "execution_count": 2,
   "id": "692614e6-2f27-4b77-9195-d6b6fa96799a",
   "metadata": {},
   "outputs": [],
   "source": [
    "url = \"https://transparenciape.com.br/CamaraCaruaru/cotaAtividadeParlamentarClass.php?dataInicial=01/01/2000&dataFinal=04/09/2023&current=1&rowCount=10&sort%5Bdata_publicacao_f%5D=desc&searchPhrase=&id=b0df282a-0d67-40e5-8558-c9e93b7befed\"\n"
   ]
  },
  {
   "cell_type": "code",
   "execution_count": 3,
   "id": "b6ddfcd9-b5cf-4521-828c-aa7ac5e86d39",
   "metadata": {},
   "outputs": [],
   "source": [
    "response = requests.get(url)"
   ]
  },
  {
   "cell_type": "code",
   "execution_count": 4,
   "id": "5bd274b2-90c3-4d41-aba6-cf2b5dd7b3c5",
   "metadata": {},
   "outputs": [
    {
     "data": {
      "text/plain": [
       "<Response [200]>"
      ]
     },
     "execution_count": 4,
     "metadata": {},
     "output_type": "execute_result"
    }
   ],
   "source": [
    "response"
   ]
  },
  {
   "cell_type": "code",
   "execution_count": 5,
   "id": "ae65699a-ae96-437f-9b6a-cd3b95650f23",
   "metadata": {},
   "outputs": [],
   "source": [
    "data = response.json()"
   ]
  },
  {
   "cell_type": "code",
   "execution_count": 6,
   "id": "49abf612-c179-4baa-910d-c2b699b98d7b",
   "metadata": {},
   "outputs": [
    {
     "data": {
      "text/plain": [
       "{'current': 1,\n",
       " 'rowCount': 10,\n",
       " 'total': 32,\n",
       " 'rows': [{'usuario': '6',\n",
       "   'id': '34',\n",
       "   'data_publicacao': '2023-09-04',\n",
       "   'descricao': 'Cota Parlamentar Alimentação - Agosto 2023',\n",
       "   'arquivo': '1693859460_f332d580a892ce100b3f.pdf',\n",
       "   'created_at': '2023-09-04 17:31:00',\n",
       "   'updated_at': '2023-09-04 17:31:00',\n",
       "   'data_publicacao_f': '04/09/2023'},\n",
       "  {'usuario': '6',\n",
       "   'id': '33',\n",
       "   'data_publicacao': '2023-09-04',\n",
       "   'descricao': 'Cota Parlamentar Combustível - Agosto 2023',\n",
       "   'arquivo': '1693859429_8799463dbd41a51af7a6.pdf',\n",
       "   'created_at': '2023-09-04 17:30:29',\n",
       "   'updated_at': '2023-09-04 17:30:29',\n",
       "   'data_publicacao_f': '04/09/2023'},\n",
       "  {'usuario': '6',\n",
       "   'id': '31',\n",
       "   'data_publicacao': '2023-07-31',\n",
       "   'descricao': 'Cota Parlamentar Alimentação - Julho 2023',\n",
       "   'arquivo': '1691176118_1519d141bf345198914b.pdf',\n",
       "   'created_at': '2023-08-04 16:08:39',\n",
       "   'updated_at': '2023-08-04 16:08:39',\n",
       "   'data_publicacao_f': '31/07/2023'},\n",
       "  {'usuario': '6',\n",
       "   'id': '30',\n",
       "   'data_publicacao': '2023-07-31',\n",
       "   'descricao': 'Cota Parlamentar Combustível - Julho 2023',\n",
       "   'arquivo': '1691176097_2c94c4fc4496a075346b.pdf',\n",
       "   'created_at': '2023-08-04 16:08:17',\n",
       "   'updated_at': '2023-08-04 16:08:17',\n",
       "   'data_publicacao_f': '31/07/2023'},\n",
       "  {'usuario': '6',\n",
       "   'id': '13',\n",
       "   'data_publicacao': '2023-06-30',\n",
       "   'descricao': 'Cota Parlamentar Alimentação - Junho 2023',\n",
       "   'arquivo': '1690204413_f7193145a91706d0058f.pdf',\n",
       "   'created_at': '2023-07-24 10:13:33',\n",
       "   'updated_at': '2023-07-24 10:13:33',\n",
       "   'data_publicacao_f': '30/06/2023'},\n",
       "  {'usuario': '6',\n",
       "   'id': '7',\n",
       "   'data_publicacao': '2023-06-30',\n",
       "   'descricao': 'Cota Parlamentar Combustível - Junho 2023',\n",
       "   'arquivo': '1690204278_f5069ee1a5f27921c41a.pdf',\n",
       "   'created_at': '2023-07-24 10:11:18',\n",
       "   'updated_at': '2023-07-24 10:11:18',\n",
       "   'data_publicacao_f': '30/06/2023'},\n",
       "  {'usuario': '6',\n",
       "   'id': '12',\n",
       "   'data_publicacao': '2023-05-31',\n",
       "   'descricao': 'Cota Parlamentar Alimentação - Maio 2023',\n",
       "   'arquivo': '1690204389_41548f42698bb16144f9.pdf',\n",
       "   'created_at': '2023-07-24 10:13:09',\n",
       "   'updated_at': '2023-07-24 10:13:09',\n",
       "   'data_publicacao_f': '31/05/2023'},\n",
       "  {'usuario': '6',\n",
       "   'id': '6',\n",
       "   'data_publicacao': '2023-05-31',\n",
       "   'descricao': 'Cota Parlamentar Combustível - Maio 2023',\n",
       "   'arquivo': '1690204258_3a8a53cbd088da5e8c0b.pdf',\n",
       "   'created_at': '2023-07-24 10:10:58',\n",
       "   'updated_at': '2023-07-24 10:10:58',\n",
       "   'data_publicacao_f': '31/05/2023'},\n",
       "  {'usuario': '6',\n",
       "   'id': '11',\n",
       "   'data_publicacao': '2023-04-30',\n",
       "   'descricao': 'Cota Parlamentar Alimentação - Abril 2023',\n",
       "   'arquivo': '1690204369_7487a61ace30ab32861b.pdf',\n",
       "   'created_at': '2023-07-24 10:12:49',\n",
       "   'updated_at': '2023-07-24 10:12:49',\n",
       "   'data_publicacao_f': '30/04/2023'},\n",
       "  {'usuario': '6',\n",
       "   'id': '5',\n",
       "   'data_publicacao': '2023-04-30',\n",
       "   'descricao': 'Cota Parlamentar Combustível - Abril 2023',\n",
       "   'arquivo': '1690204233_97895077913842f1d308.pdf',\n",
       "   'created_at': '2023-07-24 10:10:33',\n",
       "   'updated_at': '2023-07-24 10:10:33',\n",
       "   'data_publicacao_f': '30/04/2023'}]}"
      ]
     },
     "execution_count": 6,
     "metadata": {},
     "output_type": "execute_result"
    }
   ],
   "source": [
    "data"
   ]
  },
  {
   "cell_type": "markdown",
   "id": "7c902c91-bc4e-4109-bbf8-1507528d03de",
   "metadata": {},
   "source": [
    "Como esperávamos, a resposta dessa requisição são os dados reais usados para preencher a tabela interativa do site. Isso permite que possamos buscar exatamente os dados que precisamos, neste caso, `data_publicacao`, `descricao` e, o mais importante, `arquivo` cujo valor é o endpoint da url  passada para o evento `onclick` do botão \"acessar arquivo\". "
   ]
  },
  {
   "cell_type": "markdown",
   "id": "898c051b-da05-4095-a88d-94676a1ddbed",
   "metadata": {},
   "source": [
    "### Obtendo todos os resultados disponíveis"
   ]
  },
  {
   "cell_type": "markdown",
   "id": "f6b5ea75-fb7c-4cda-9e32-095b3e8ca12c",
   "metadata": {},
   "source": [
    "Embora tenhamos conseguido acessar os dados diretamente, ainda precisamos observar um detalhe: A tabela exibida no site é carregada com 10 resultados por padrão:\n",
    "![opções_da_tabela](../img/2023-09-05_00-14_barra_de_opções_da_tabela.png)\n",
    "\n",
    "Esse valor é passado na query string da requisição: \n",
    "![queriestring_padrão](../img/2023-09-05_00-22-queriestring_padrão.png)\n",
    "\n",
    "É isso que recebemos como resposta nos campos `total` e `rowCount`. O campo `current` indica que estamos na \"página 1\". Nosso objetivo é obter todos os resultados disponíveis. Para descobrir qual valor atribuir à variável `rowCount` para obter do servidor todos os resultados, foi necessário apenas selecionar a opção \"Todos\" no menu da tabela:\n",
    "![todos_os_resultados](../img/Screenshot_2023-09-05_00-15-22-seleciona_todos.png)\n",
    "\n",
    "E checar qual valor é atribuido à `rowCount` na query string da requisição assíncrona:\n",
    "![queriestring_todos](../img/2023-09-05_00-19_queriestring_para_todos_os_resultados.png)\n",
    "\n",
    "Como podemos notar, -1 é passado para `rowCount` para retorna todos os resultados. Vamos testar uma requisição com esse valor:"
   ]
  },
  {
   "cell_type": "code",
   "execution_count": 7,
   "id": "dbdc0729-b533-459c-8a14-30646b910220",
   "metadata": {},
   "outputs": [],
   "source": [
    "response = requests.get(\n",
    "    'https://transparenciape.com.br/CamaraCaruaru/cotaAtividadeParlamentarClass.php?dataInicial=01/01/2000&dataFinal=04/09/2023&current=1&rowCount=-1&sort%5Bdata_publicacao_f%5D=desc&searchPhrase=&id=b0df282a-0d67-40e5-8558-c9e93b7befed',\n",
    ")"
   ]
  },
  {
   "cell_type": "code",
   "execution_count": 15,
   "id": "5467d108-f859-42c6-b630-e4ddef1043e5",
   "metadata": {},
   "outputs": [
    {
     "data": {
      "text/plain": [
       "<Response [200]>"
      ]
     },
     "execution_count": 15,
     "metadata": {},
     "output_type": "execute_result"
    }
   ],
   "source": [
    "response"
   ]
  },
  {
   "cell_type": "code",
   "execution_count": 9,
   "id": "2324e7ef-7bc8-4210-beab-5191bc74e47a",
   "metadata": {},
   "outputs": [
    {
     "data": {
      "text/plain": [
       "{'current': 1,\n",
       " 'rowCount': 10,\n",
       " 'total': 32,\n",
       " 'rows': [{'usuario': '6',\n",
       "   'id': '34',\n",
       "   'data_publicacao': '2023-09-04',\n",
       "   'descricao': 'Cota Parlamentar Alimentação - Agosto 2023',\n",
       "   'arquivo': '1693859460_f332d580a892ce100b3f.pdf',\n",
       "   'created_at': '2023-09-04 17:31:00',\n",
       "   'updated_at': '2023-09-04 17:31:00',\n",
       "   'data_publicacao_f': '04/09/2023'},\n",
       "  {'usuario': '6',\n",
       "   'id': '33',\n",
       "   'data_publicacao': '2023-09-04',\n",
       "   'descricao': 'Cota Parlamentar Combustível - Agosto 2023',\n",
       "   'arquivo': '1693859429_8799463dbd41a51af7a6.pdf',\n",
       "   'created_at': '2023-09-04 17:30:29',\n",
       "   'updated_at': '2023-09-04 17:30:29',\n",
       "   'data_publicacao_f': '04/09/2023'},\n",
       "  {'usuario': '6',\n",
       "   'id': '31',\n",
       "   'data_publicacao': '2023-07-31',\n",
       "   'descricao': 'Cota Parlamentar Alimentação - Julho 2023',\n",
       "   'arquivo': '1691176118_1519d141bf345198914b.pdf',\n",
       "   'created_at': '2023-08-04 16:08:39',\n",
       "   'updated_at': '2023-08-04 16:08:39',\n",
       "   'data_publicacao_f': '31/07/2023'},\n",
       "  {'usuario': '6',\n",
       "   'id': '30',\n",
       "   'data_publicacao': '2023-07-31',\n",
       "   'descricao': 'Cota Parlamentar Combustível - Julho 2023',\n",
       "   'arquivo': '1691176097_2c94c4fc4496a075346b.pdf',\n",
       "   'created_at': '2023-08-04 16:08:17',\n",
       "   'updated_at': '2023-08-04 16:08:17',\n",
       "   'data_publicacao_f': '31/07/2023'},\n",
       "  {'usuario': '6',\n",
       "   'id': '13',\n",
       "   'data_publicacao': '2023-06-30',\n",
       "   'descricao': 'Cota Parlamentar Alimentação - Junho 2023',\n",
       "   'arquivo': '1690204413_f7193145a91706d0058f.pdf',\n",
       "   'created_at': '2023-07-24 10:13:33',\n",
       "   'updated_at': '2023-07-24 10:13:33',\n",
       "   'data_publicacao_f': '30/06/2023'},\n",
       "  {'usuario': '6',\n",
       "   'id': '7',\n",
       "   'data_publicacao': '2023-06-30',\n",
       "   'descricao': 'Cota Parlamentar Combustível - Junho 2023',\n",
       "   'arquivo': '1690204278_f5069ee1a5f27921c41a.pdf',\n",
       "   'created_at': '2023-07-24 10:11:18',\n",
       "   'updated_at': '2023-07-24 10:11:18',\n",
       "   'data_publicacao_f': '30/06/2023'},\n",
       "  {'usuario': '6',\n",
       "   'id': '12',\n",
       "   'data_publicacao': '2023-05-31',\n",
       "   'descricao': 'Cota Parlamentar Alimentação - Maio 2023',\n",
       "   'arquivo': '1690204389_41548f42698bb16144f9.pdf',\n",
       "   'created_at': '2023-07-24 10:13:09',\n",
       "   'updated_at': '2023-07-24 10:13:09',\n",
       "   'data_publicacao_f': '31/05/2023'},\n",
       "  {'usuario': '6',\n",
       "   'id': '6',\n",
       "   'data_publicacao': '2023-05-31',\n",
       "   'descricao': 'Cota Parlamentar Combustível - Maio 2023',\n",
       "   'arquivo': '1690204258_3a8a53cbd088da5e8c0b.pdf',\n",
       "   'created_at': '2023-07-24 10:10:58',\n",
       "   'updated_at': '2023-07-24 10:10:58',\n",
       "   'data_publicacao_f': '31/05/2023'},\n",
       "  {'usuario': '6',\n",
       "   'id': '11',\n",
       "   'data_publicacao': '2023-04-30',\n",
       "   'descricao': 'Cota Parlamentar Alimentação - Abril 2023',\n",
       "   'arquivo': '1690204369_7487a61ace30ab32861b.pdf',\n",
       "   'created_at': '2023-07-24 10:12:49',\n",
       "   'updated_at': '2023-07-24 10:12:49',\n",
       "   'data_publicacao_f': '30/04/2023'},\n",
       "  {'usuario': '6',\n",
       "   'id': '5',\n",
       "   'data_publicacao': '2023-04-30',\n",
       "   'descricao': 'Cota Parlamentar Combustível - Abril 2023',\n",
       "   'arquivo': '1690204233_97895077913842f1d308.pdf',\n",
       "   'created_at': '2023-07-24 10:10:33',\n",
       "   'updated_at': '2023-07-24 10:10:33',\n",
       "   'data_publicacao_f': '30/04/2023'},\n",
       "  {'usuario': '6',\n",
       "   'id': '10',\n",
       "   'data_publicacao': '2023-03-31',\n",
       "   'descricao': 'Cota Parlamentar Alimentação - Março 2023',\n",
       "   'arquivo': '1690204351_a52b5b4e575f384977f6.pdf',\n",
       "   'created_at': '2023-07-24 10:12:31',\n",
       "   'updated_at': '2023-07-24 10:12:31',\n",
       "   'data_publicacao_f': '31/03/2023'},\n",
       "  {'usuario': '6',\n",
       "   'id': '4',\n",
       "   'data_publicacao': '2023-03-31',\n",
       "   'descricao': 'Cota Parlamentar Combustível - Março 2023',\n",
       "   'arquivo': '1690204214_1b16a050653039a2a1b5.pdf',\n",
       "   'created_at': '2023-07-24 10:10:14',\n",
       "   'updated_at': '2023-07-24 10:10:14',\n",
       "   'data_publicacao_f': '31/03/2023'},\n",
       "  {'usuario': '6',\n",
       "   'id': '9',\n",
       "   'data_publicacao': '2023-02-28',\n",
       "   'descricao': 'Cota Parlamentar Alimentação - Fevereiro 2023',\n",
       "   'arquivo': '1690204331_b436553567aaa1074293.pdf',\n",
       "   'created_at': '2023-07-24 10:12:11',\n",
       "   'updated_at': '2023-07-24 10:12:11',\n",
       "   'data_publicacao_f': '28/02/2023'},\n",
       "  {'usuario': '6',\n",
       "   'id': '3',\n",
       "   'data_publicacao': '2023-02-28',\n",
       "   'descricao': 'Cota Parlamentar Combustível - Fevereiro 2023',\n",
       "   'arquivo': '1690204195_89e8465a1608f0d15acd.pdf',\n",
       "   'created_at': '2023-07-24 10:09:55',\n",
       "   'updated_at': '2023-07-24 10:09:55',\n",
       "   'data_publicacao_f': '28/02/2023'},\n",
       "  {'usuario': '6',\n",
       "   'id': '8',\n",
       "   'data_publicacao': '2023-01-31',\n",
       "   'descricao': 'Cota Parlamentar Alimentação - Janeiro 2023',\n",
       "   'arquivo': '1690204312_03524c2ecc733f9dd70e.pdf',\n",
       "   'created_at': '2023-07-24 10:11:52',\n",
       "   'updated_at': '2023-07-24 10:11:52',\n",
       "   'data_publicacao_f': '31/01/2023'},\n",
       "  {'usuario': '6',\n",
       "   'id': '2',\n",
       "   'data_publicacao': '2023-01-31',\n",
       "   'descricao': 'Cota Parlamentar Combustível - Janeiro 2023',\n",
       "   'arquivo': '1690204170_53cc88100f51b5b43487.pdf',\n",
       "   'created_at': '2023-07-24 10:09:30',\n",
       "   'updated_at': '2023-07-24 10:09:30',\n",
       "   'data_publicacao_f': '31/01/2023'},\n",
       "  {'usuario': '6',\n",
       "   'id': '26',\n",
       "   'data_publicacao': '2022-12-31',\n",
       "   'descricao': 'Cota Parlamentar Combustível - Dezembro 2022',\n",
       "   'arquivo': '1690226094_7075f820fbdbac32f4bf.pdf',\n",
       "   'created_at': '2023-07-24 16:14:54',\n",
       "   'updated_at': '2023-07-24 16:14:54',\n",
       "   'data_publicacao_f': '31/12/2022'},\n",
       "  {'usuario': '6',\n",
       "   'id': '20',\n",
       "   'data_publicacao': '2022-12-31',\n",
       "   'descricao': 'Cota Parlamentar Alimentação - Dezembro 2022',\n",
       "   'arquivo': '1690225899_789e2c1c7421bc028013.pdf',\n",
       "   'created_at': '2023-07-24 16:11:39',\n",
       "   'updated_at': '2023-07-24 16:11:39',\n",
       "   'data_publicacao_f': '31/12/2022'},\n",
       "  {'usuario': '6',\n",
       "   'id': '25',\n",
       "   'data_publicacao': '2022-11-30',\n",
       "   'descricao': 'Cota Parlamentar Combustível - Novembro 2022',\n",
       "   'arquivo': '1690226043_91f095f94adfeb50a9ce.pdf',\n",
       "   'created_at': '2023-07-24 16:14:03',\n",
       "   'updated_at': '2023-07-24 16:14:03',\n",
       "   'data_publicacao_f': '30/11/2022'},\n",
       "  {'usuario': '6',\n",
       "   'id': '19',\n",
       "   'data_publicacao': '2022-11-30',\n",
       "   'descricao': 'Cota Parlamentar Alimentação - Novembro 2022',\n",
       "   'arquivo': '1690225878_b36a6ad926d799570895.pdf',\n",
       "   'created_at': '2023-07-24 16:11:18',\n",
       "   'updated_at': '2023-07-24 16:11:18',\n",
       "   'data_publicacao_f': '30/11/2022'},\n",
       "  {'usuario': '6',\n",
       "   'id': '24',\n",
       "   'data_publicacao': '2022-10-31',\n",
       "   'descricao': 'Cota Parlamentar Combustível - Outubro 2022',\n",
       "   'arquivo': '1690226026_2b822fb4a97c33c8772d.pdf',\n",
       "   'created_at': '2023-07-24 16:13:46',\n",
       "   'updated_at': '2023-07-24 16:13:46',\n",
       "   'data_publicacao_f': '31/10/2022'},\n",
       "  {'usuario': '6',\n",
       "   'id': '18',\n",
       "   'data_publicacao': '2022-10-31',\n",
       "   'descricao': 'Cota Parlamentar Alimentação - Outubro 2022',\n",
       "   'arquivo': '1690225861_a81c902c97dc0c5c799f.pdf',\n",
       "   'created_at': '2023-07-24 16:11:01',\n",
       "   'updated_at': '2023-07-24 16:11:01',\n",
       "   'data_publicacao_f': '31/10/2022'},\n",
       "  {'usuario': '6',\n",
       "   'id': '27',\n",
       "   'data_publicacao': '2022-09-30',\n",
       "   'descricao': 'Cota Parlamentar Combustível - Setembro 2022',\n",
       "   'arquivo': '1690226247_08f9ca610adab7e220b4.pdf',\n",
       "   'created_at': '2023-07-24 16:17:27',\n",
       "   'updated_at': '2023-07-24 16:17:27',\n",
       "   'data_publicacao_f': '30/09/2022'},\n",
       "  {'usuario': '6',\n",
       "   'id': '17',\n",
       "   'data_publicacao': '2022-09-30',\n",
       "   'descricao': 'Cota Parlamentar Alimentação - Setembro 2022',\n",
       "   'arquivo': '1690225841_2ec8a07a061182727b5b.pdf',\n",
       "   'created_at': '2023-07-24 16:10:41',\n",
       "   'updated_at': '2023-07-24 16:10:41',\n",
       "   'data_publicacao_f': '30/09/2022'},\n",
       "  {'usuario': '6',\n",
       "   'id': '23',\n",
       "   'data_publicacao': '2022-08-31',\n",
       "   'descricao': 'Cota Parlamentar Combustível - Agosto 2022',\n",
       "   'arquivo': '1690226007_d594ef4baa11f735d197.pdf',\n",
       "   'created_at': '2023-07-24 16:13:27',\n",
       "   'updated_at': '2023-07-24 16:13:27',\n",
       "   'data_publicacao_f': '31/08/2022'},\n",
       "  {'usuario': '6',\n",
       "   'id': '16',\n",
       "   'data_publicacao': '2022-08-31',\n",
       "   'descricao': 'Cota Parlamentar Alimentação - Agosto 2022',\n",
       "   'arquivo': '1690225778_371bd8f40ea516b3bf8f.pdf',\n",
       "   'created_at': '2023-07-24 16:09:38',\n",
       "   'updated_at': '2023-07-24 16:09:38',\n",
       "   'data_publicacao_f': '31/08/2022'},\n",
       "  {'usuario': '6',\n",
       "   'id': '22',\n",
       "   'data_publicacao': '2022-07-31',\n",
       "   'descricao': 'Cota Parlamentar Combustível - Julho 2022',\n",
       "   'arquivo': '1690225984_603abb33aaed64da539c.pdf',\n",
       "   'created_at': '2023-07-24 16:13:04',\n",
       "   'updated_at': '2023-07-24 16:13:04',\n",
       "   'data_publicacao_f': '31/07/2022'},\n",
       "  {'usuario': '6',\n",
       "   'id': '15',\n",
       "   'data_publicacao': '2022-07-31',\n",
       "   'descricao': 'Cota Parlamentar Alimentação - Julho 2022',\n",
       "   'arquivo': '1690225720_3c5a88998837a133e4e3.pdf',\n",
       "   'created_at': '2023-07-24 16:08:40',\n",
       "   'updated_at': '2023-07-24 16:08:40',\n",
       "   'data_publicacao_f': '31/07/2022'},\n",
       "  {'usuario': '6',\n",
       "   'id': '21',\n",
       "   'data_publicacao': '2022-06-30',\n",
       "   'descricao': 'Cota Parlamentar Combustível - Junho 2022',\n",
       "   'arquivo': '1690225964_c859d3f25c9d06157a81.pdf',\n",
       "   'created_at': '2023-07-24 16:12:44',\n",
       "   'updated_at': '2023-07-24 16:12:44',\n",
       "   'data_publicacao_f': '30/06/2022'},\n",
       "  {'usuario': '6',\n",
       "   'id': '14',\n",
       "   'data_publicacao': '2022-06-30',\n",
       "   'descricao': 'Cota Parlamentar Alimentação - Junho 2022',\n",
       "   'arquivo': '1690225742_38cfa2c0969b14e83ea8.pdf',\n",
       "   'created_at': '2023-07-24 16:08:09',\n",
       "   'updated_at': '2023-07-24 16:09:02',\n",
       "   'data_publicacao_f': '30/06/2022'},\n",
       "  {'usuario': '6',\n",
       "   'id': '29',\n",
       "   'data_publicacao': '2022-05-31',\n",
       "   'descricao': 'Cota Parlamentar Combustível - Declaração de Não Existência de Dados a Apresentar Antes de Junho de 2022',\n",
       "   'arquivo': '1690226869_b505b45b8d29b0cb9d64.pdf',\n",
       "   'created_at': '2023-07-24 16:27:49',\n",
       "   'updated_at': '2023-07-24 16:28:16',\n",
       "   'data_publicacao_f': '31/05/2022'},\n",
       "  {'usuario': '6',\n",
       "   'id': '28',\n",
       "   'data_publicacao': '2022-05-31',\n",
       "   'descricao': 'Cota Parlamentar Alimentação - Declaração de Não Existência de Dados a Apresentar Antes de Junho de 2022',\n",
       "   'arquivo': '1690226831_5ea3e44ab14071254996.pdf',\n",
       "   'created_at': '2023-07-24 16:27:11',\n",
       "   'updated_at': '2023-07-24 16:28:06',\n",
       "   'data_publicacao_f': '31/05/2022'}]}"
      ]
     },
     "execution_count": 9,
     "metadata": {},
     "output_type": "execute_result"
    }
   ],
   "source": [
    "response.json()"
   ]
  },
  {
   "cell_type": "markdown",
   "id": "977ae98b-34c9-4ecb-8e95-fa3da64abcc7",
   "metadata": {},
   "source": [
    "Observe apenas que, apesar de passarmos -1 para `rowCount` na query string, o valor na resposta continua sendo 10... Para checar o total de resultados obtidos bate com o total informado pelo site, podemos contar os itens do campo `rows` da resposta:"
   ]
  },
  {
   "cell_type": "code",
   "execution_count": 10,
   "id": "cf410d06-b11f-46de-85e2-7d1616acbb98",
   "metadata": {},
   "outputs": [
    {
     "data": {
      "text/plain": [
       "32"
      ]
     },
     "execution_count": 10,
     "metadata": {},
     "output_type": "execute_result"
    }
   ],
   "source": [
    "len(response.json()[\"rows\"])"
   ]
  },
  {
   "cell_type": "markdown",
   "id": "109f7be7-d159-488f-88c4-ee0e85a18f94",
   "metadata": {},
   "source": [
    "### Encurtando a url de acesso"
   ]
  },
  {
   "cell_type": "markdown",
   "id": "b25eee3c-2f94-42f2-b728-8732054c8c59",
   "metadata": {},
   "source": [
    "Analisando a url que dá acesso aos dados notamos que os valores inprecindíveis são `dataInicial`, `dataFinal` e `rowCount`. A ausencia das outras variáveis não impedem de termos o retorno desejado:"
   ]
  },
  {
   "cell_type": "code",
   "execution_count": 2,
   "id": "b402c381-bd68-4e3a-8368-40c24f5b4352",
   "metadata": {},
   "outputs": [],
   "source": [
    "response = requests.get(\n",
    "    'https://transparenciape.com.br/CamaraCaruaru/cotaAtividadeParlamentarClass.php?dataInicial=01/01/2000&dataFinal=04/09/2023&rowCount=-1',\n",
    ")"
   ]
  },
  {
   "cell_type": "code",
   "execution_count": 3,
   "id": "dcccbd8f-817f-4072-9431-da20bd084e78",
   "metadata": {},
   "outputs": [
    {
     "data": {
      "text/plain": [
       "{'current': 0,\n",
       " 'rowCount': 10,\n",
       " 'total': 32,\n",
       " 'rows': [{'usuario': '6',\n",
       "   'id': '34',\n",
       "   'data_publicacao': '2023-09-04',\n",
       "   'descricao': 'Cota Parlamentar Alimentação - Agosto 2023',\n",
       "   'arquivo': '1693859460_f332d580a892ce100b3f.pdf',\n",
       "   'created_at': '2023-09-04 17:31:00',\n",
       "   'updated_at': '2023-09-04 17:31:00',\n",
       "   'data_publicacao_f': '04/09/2023'},\n",
       "  {'usuario': '6',\n",
       "   'id': '33',\n",
       "   'data_publicacao': '2023-09-04',\n",
       "   'descricao': 'Cota Parlamentar Combustível - Agosto 2023',\n",
       "   'arquivo': '1693859429_8799463dbd41a51af7a6.pdf',\n",
       "   'created_at': '2023-09-04 17:30:29',\n",
       "   'updated_at': '2023-09-04 17:30:29',\n",
       "   'data_publicacao_f': '04/09/2023'},\n",
       "  {'usuario': '6',\n",
       "   'id': '31',\n",
       "   'data_publicacao': '2023-07-31',\n",
       "   'descricao': 'Cota Parlamentar Alimentação - Julho 2023',\n",
       "   'arquivo': '1691176118_1519d141bf345198914b.pdf',\n",
       "   'created_at': '2023-08-04 16:08:39',\n",
       "   'updated_at': '2023-08-04 16:08:39',\n",
       "   'data_publicacao_f': '31/07/2023'},\n",
       "  {'usuario': '6',\n",
       "   'id': '30',\n",
       "   'data_publicacao': '2023-07-31',\n",
       "   'descricao': 'Cota Parlamentar Combustível - Julho 2023',\n",
       "   'arquivo': '1691176097_2c94c4fc4496a075346b.pdf',\n",
       "   'created_at': '2023-08-04 16:08:17',\n",
       "   'updated_at': '2023-08-04 16:08:17',\n",
       "   'data_publicacao_f': '31/07/2023'},\n",
       "  {'usuario': '6',\n",
       "   'id': '13',\n",
       "   'data_publicacao': '2023-06-30',\n",
       "   'descricao': 'Cota Parlamentar Alimentação - Junho 2023',\n",
       "   'arquivo': '1690204413_f7193145a91706d0058f.pdf',\n",
       "   'created_at': '2023-07-24 10:13:33',\n",
       "   'updated_at': '2023-07-24 10:13:33',\n",
       "   'data_publicacao_f': '30/06/2023'},\n",
       "  {'usuario': '6',\n",
       "   'id': '7',\n",
       "   'data_publicacao': '2023-06-30',\n",
       "   'descricao': 'Cota Parlamentar Combustível - Junho 2023',\n",
       "   'arquivo': '1690204278_f5069ee1a5f27921c41a.pdf',\n",
       "   'created_at': '2023-07-24 10:11:18',\n",
       "   'updated_at': '2023-07-24 10:11:18',\n",
       "   'data_publicacao_f': '30/06/2023'},\n",
       "  {'usuario': '6',\n",
       "   'id': '12',\n",
       "   'data_publicacao': '2023-05-31',\n",
       "   'descricao': 'Cota Parlamentar Alimentação - Maio 2023',\n",
       "   'arquivo': '1690204389_41548f42698bb16144f9.pdf',\n",
       "   'created_at': '2023-07-24 10:13:09',\n",
       "   'updated_at': '2023-07-24 10:13:09',\n",
       "   'data_publicacao_f': '31/05/2023'},\n",
       "  {'usuario': '6',\n",
       "   'id': '6',\n",
       "   'data_publicacao': '2023-05-31',\n",
       "   'descricao': 'Cota Parlamentar Combustível - Maio 2023',\n",
       "   'arquivo': '1690204258_3a8a53cbd088da5e8c0b.pdf',\n",
       "   'created_at': '2023-07-24 10:10:58',\n",
       "   'updated_at': '2023-07-24 10:10:58',\n",
       "   'data_publicacao_f': '31/05/2023'},\n",
       "  {'usuario': '6',\n",
       "   'id': '11',\n",
       "   'data_publicacao': '2023-04-30',\n",
       "   'descricao': 'Cota Parlamentar Alimentação - Abril 2023',\n",
       "   'arquivo': '1690204369_7487a61ace30ab32861b.pdf',\n",
       "   'created_at': '2023-07-24 10:12:49',\n",
       "   'updated_at': '2023-07-24 10:12:49',\n",
       "   'data_publicacao_f': '30/04/2023'},\n",
       "  {'usuario': '6',\n",
       "   'id': '5',\n",
       "   'data_publicacao': '2023-04-30',\n",
       "   'descricao': 'Cota Parlamentar Combustível - Abril 2023',\n",
       "   'arquivo': '1690204233_97895077913842f1d308.pdf',\n",
       "   'created_at': '2023-07-24 10:10:33',\n",
       "   'updated_at': '2023-07-24 10:10:33',\n",
       "   'data_publicacao_f': '30/04/2023'},\n",
       "  {'usuario': '6',\n",
       "   'id': '10',\n",
       "   'data_publicacao': '2023-03-31',\n",
       "   'descricao': 'Cota Parlamentar Alimentação - Março 2023',\n",
       "   'arquivo': '1690204351_a52b5b4e575f384977f6.pdf',\n",
       "   'created_at': '2023-07-24 10:12:31',\n",
       "   'updated_at': '2023-07-24 10:12:31',\n",
       "   'data_publicacao_f': '31/03/2023'},\n",
       "  {'usuario': '6',\n",
       "   'id': '4',\n",
       "   'data_publicacao': '2023-03-31',\n",
       "   'descricao': 'Cota Parlamentar Combustível - Março 2023',\n",
       "   'arquivo': '1690204214_1b16a050653039a2a1b5.pdf',\n",
       "   'created_at': '2023-07-24 10:10:14',\n",
       "   'updated_at': '2023-07-24 10:10:14',\n",
       "   'data_publicacao_f': '31/03/2023'},\n",
       "  {'usuario': '6',\n",
       "   'id': '9',\n",
       "   'data_publicacao': '2023-02-28',\n",
       "   'descricao': 'Cota Parlamentar Alimentação - Fevereiro 2023',\n",
       "   'arquivo': '1690204331_b436553567aaa1074293.pdf',\n",
       "   'created_at': '2023-07-24 10:12:11',\n",
       "   'updated_at': '2023-07-24 10:12:11',\n",
       "   'data_publicacao_f': '28/02/2023'},\n",
       "  {'usuario': '6',\n",
       "   'id': '3',\n",
       "   'data_publicacao': '2023-02-28',\n",
       "   'descricao': 'Cota Parlamentar Combustível - Fevereiro 2023',\n",
       "   'arquivo': '1690204195_89e8465a1608f0d15acd.pdf',\n",
       "   'created_at': '2023-07-24 10:09:55',\n",
       "   'updated_at': '2023-07-24 10:09:55',\n",
       "   'data_publicacao_f': '28/02/2023'},\n",
       "  {'usuario': '6',\n",
       "   'id': '8',\n",
       "   'data_publicacao': '2023-01-31',\n",
       "   'descricao': 'Cota Parlamentar Alimentação - Janeiro 2023',\n",
       "   'arquivo': '1690204312_03524c2ecc733f9dd70e.pdf',\n",
       "   'created_at': '2023-07-24 10:11:52',\n",
       "   'updated_at': '2023-07-24 10:11:52',\n",
       "   'data_publicacao_f': '31/01/2023'},\n",
       "  {'usuario': '6',\n",
       "   'id': '2',\n",
       "   'data_publicacao': '2023-01-31',\n",
       "   'descricao': 'Cota Parlamentar Combustível - Janeiro 2023',\n",
       "   'arquivo': '1690204170_53cc88100f51b5b43487.pdf',\n",
       "   'created_at': '2023-07-24 10:09:30',\n",
       "   'updated_at': '2023-07-24 10:09:30',\n",
       "   'data_publicacao_f': '31/01/2023'},\n",
       "  {'usuario': '6',\n",
       "   'id': '26',\n",
       "   'data_publicacao': '2022-12-31',\n",
       "   'descricao': 'Cota Parlamentar Combustível - Dezembro 2022',\n",
       "   'arquivo': '1690226094_7075f820fbdbac32f4bf.pdf',\n",
       "   'created_at': '2023-07-24 16:14:54',\n",
       "   'updated_at': '2023-07-24 16:14:54',\n",
       "   'data_publicacao_f': '31/12/2022'},\n",
       "  {'usuario': '6',\n",
       "   'id': '20',\n",
       "   'data_publicacao': '2022-12-31',\n",
       "   'descricao': 'Cota Parlamentar Alimentação - Dezembro 2022',\n",
       "   'arquivo': '1690225899_789e2c1c7421bc028013.pdf',\n",
       "   'created_at': '2023-07-24 16:11:39',\n",
       "   'updated_at': '2023-07-24 16:11:39',\n",
       "   'data_publicacao_f': '31/12/2022'},\n",
       "  {'usuario': '6',\n",
       "   'id': '25',\n",
       "   'data_publicacao': '2022-11-30',\n",
       "   'descricao': 'Cota Parlamentar Combustível - Novembro 2022',\n",
       "   'arquivo': '1690226043_91f095f94adfeb50a9ce.pdf',\n",
       "   'created_at': '2023-07-24 16:14:03',\n",
       "   'updated_at': '2023-07-24 16:14:03',\n",
       "   'data_publicacao_f': '30/11/2022'},\n",
       "  {'usuario': '6',\n",
       "   'id': '19',\n",
       "   'data_publicacao': '2022-11-30',\n",
       "   'descricao': 'Cota Parlamentar Alimentação - Novembro 2022',\n",
       "   'arquivo': '1690225878_b36a6ad926d799570895.pdf',\n",
       "   'created_at': '2023-07-24 16:11:18',\n",
       "   'updated_at': '2023-07-24 16:11:18',\n",
       "   'data_publicacao_f': '30/11/2022'},\n",
       "  {'usuario': '6',\n",
       "   'id': '24',\n",
       "   'data_publicacao': '2022-10-31',\n",
       "   'descricao': 'Cota Parlamentar Combustível - Outubro 2022',\n",
       "   'arquivo': '1690226026_2b822fb4a97c33c8772d.pdf',\n",
       "   'created_at': '2023-07-24 16:13:46',\n",
       "   'updated_at': '2023-07-24 16:13:46',\n",
       "   'data_publicacao_f': '31/10/2022'},\n",
       "  {'usuario': '6',\n",
       "   'id': '18',\n",
       "   'data_publicacao': '2022-10-31',\n",
       "   'descricao': 'Cota Parlamentar Alimentação - Outubro 2022',\n",
       "   'arquivo': '1690225861_a81c902c97dc0c5c799f.pdf',\n",
       "   'created_at': '2023-07-24 16:11:01',\n",
       "   'updated_at': '2023-07-24 16:11:01',\n",
       "   'data_publicacao_f': '31/10/2022'},\n",
       "  {'usuario': '6',\n",
       "   'id': '27',\n",
       "   'data_publicacao': '2022-09-30',\n",
       "   'descricao': 'Cota Parlamentar Combustível - Setembro 2022',\n",
       "   'arquivo': '1690226247_08f9ca610adab7e220b4.pdf',\n",
       "   'created_at': '2023-07-24 16:17:27',\n",
       "   'updated_at': '2023-07-24 16:17:27',\n",
       "   'data_publicacao_f': '30/09/2022'},\n",
       "  {'usuario': '6',\n",
       "   'id': '17',\n",
       "   'data_publicacao': '2022-09-30',\n",
       "   'descricao': 'Cota Parlamentar Alimentação - Setembro 2022',\n",
       "   'arquivo': '1690225841_2ec8a07a061182727b5b.pdf',\n",
       "   'created_at': '2023-07-24 16:10:41',\n",
       "   'updated_at': '2023-07-24 16:10:41',\n",
       "   'data_publicacao_f': '30/09/2022'},\n",
       "  {'usuario': '6',\n",
       "   'id': '23',\n",
       "   'data_publicacao': '2022-08-31',\n",
       "   'descricao': 'Cota Parlamentar Combustível - Agosto 2022',\n",
       "   'arquivo': '1690226007_d594ef4baa11f735d197.pdf',\n",
       "   'created_at': '2023-07-24 16:13:27',\n",
       "   'updated_at': '2023-07-24 16:13:27',\n",
       "   'data_publicacao_f': '31/08/2022'},\n",
       "  {'usuario': '6',\n",
       "   'id': '16',\n",
       "   'data_publicacao': '2022-08-31',\n",
       "   'descricao': 'Cota Parlamentar Alimentação - Agosto 2022',\n",
       "   'arquivo': '1690225778_371bd8f40ea516b3bf8f.pdf',\n",
       "   'created_at': '2023-07-24 16:09:38',\n",
       "   'updated_at': '2023-07-24 16:09:38',\n",
       "   'data_publicacao_f': '31/08/2022'},\n",
       "  {'usuario': '6',\n",
       "   'id': '22',\n",
       "   'data_publicacao': '2022-07-31',\n",
       "   'descricao': 'Cota Parlamentar Combustível - Julho 2022',\n",
       "   'arquivo': '1690225984_603abb33aaed64da539c.pdf',\n",
       "   'created_at': '2023-07-24 16:13:04',\n",
       "   'updated_at': '2023-07-24 16:13:04',\n",
       "   'data_publicacao_f': '31/07/2022'},\n",
       "  {'usuario': '6',\n",
       "   'id': '15',\n",
       "   'data_publicacao': '2022-07-31',\n",
       "   'descricao': 'Cota Parlamentar Alimentação - Julho 2022',\n",
       "   'arquivo': '1690225720_3c5a88998837a133e4e3.pdf',\n",
       "   'created_at': '2023-07-24 16:08:40',\n",
       "   'updated_at': '2023-07-24 16:08:40',\n",
       "   'data_publicacao_f': '31/07/2022'},\n",
       "  {'usuario': '6',\n",
       "   'id': '21',\n",
       "   'data_publicacao': '2022-06-30',\n",
       "   'descricao': 'Cota Parlamentar Combustível - Junho 2022',\n",
       "   'arquivo': '1690225964_c859d3f25c9d06157a81.pdf',\n",
       "   'created_at': '2023-07-24 16:12:44',\n",
       "   'updated_at': '2023-07-24 16:12:44',\n",
       "   'data_publicacao_f': '30/06/2022'},\n",
       "  {'usuario': '6',\n",
       "   'id': '14',\n",
       "   'data_publicacao': '2022-06-30',\n",
       "   'descricao': 'Cota Parlamentar Alimentação - Junho 2022',\n",
       "   'arquivo': '1690225742_38cfa2c0969b14e83ea8.pdf',\n",
       "   'created_at': '2023-07-24 16:08:09',\n",
       "   'updated_at': '2023-07-24 16:09:02',\n",
       "   'data_publicacao_f': '30/06/2022'},\n",
       "  {'usuario': '6',\n",
       "   'id': '29',\n",
       "   'data_publicacao': '2022-05-31',\n",
       "   'descricao': 'Cota Parlamentar Combustível - Declaração de Não Existência de Dados a Apresentar Antes de Junho de 2022',\n",
       "   'arquivo': '1690226869_b505b45b8d29b0cb9d64.pdf',\n",
       "   'created_at': '2023-07-24 16:27:49',\n",
       "   'updated_at': '2023-07-24 16:28:16',\n",
       "   'data_publicacao_f': '31/05/2022'},\n",
       "  {'usuario': '6',\n",
       "   'id': '28',\n",
       "   'data_publicacao': '2022-05-31',\n",
       "   'descricao': 'Cota Parlamentar Alimentação - Declaração de Não Existência de Dados a Apresentar Antes de Junho de 2022',\n",
       "   'arquivo': '1690226831_5ea3e44ab14071254996.pdf',\n",
       "   'created_at': '2023-07-24 16:27:11',\n",
       "   'updated_at': '2023-07-24 16:28:06',\n",
       "   'data_publicacao_f': '31/05/2022'}]}"
      ]
     },
     "execution_count": 3,
     "metadata": {},
     "output_type": "execute_result"
    }
   ],
   "source": [
    "responsoe.json()"
   ]
  },
  {
   "cell_type": "markdown",
   "id": "cfd54180-63ff-409c-8807-7c861978e559",
   "metadata": {},
   "source": [
    "Podemos, portanto usar essa url um pouco mais enxuta para as requisições."
   ]
  },
  {
   "cell_type": "markdown",
   "id": "0eb32816-e1fa-4c0a-8eef-2c47aa951f78",
   "metadata": {},
   "source": [
    "Por fim, para obter todas as urls dos documentos, basta concatenar as primeiras partes da url do documento, com o valor do campo \"arquivo\" da resposta:"
   ]
  },
  {
   "cell_type": "code",
   "execution_count": 11,
   "id": "3d599aad-f365-4511-ab12-2f6621c913ed",
   "metadata": {},
   "outputs": [
    {
     "name": "stdout",
     "output_type": "stream",
     "text": [
      "['http://transparencia.caruaru.pe.leg.br/sistema/uploads/cotas/1693859460_f332d580a892ce100b3f.pdf', 'http://transparencia.caruaru.pe.leg.br/sistema/uploads/cotas/1693859429_8799463dbd41a51af7a6.pdf', 'http://transparencia.caruaru.pe.leg.br/sistema/uploads/cotas/1691176118_1519d141bf345198914b.pdf', 'http://transparencia.caruaru.pe.leg.br/sistema/uploads/cotas/1691176097_2c94c4fc4496a075346b.pdf', 'http://transparencia.caruaru.pe.leg.br/sistema/uploads/cotas/1690204413_f7193145a91706d0058f.pdf', 'http://transparencia.caruaru.pe.leg.br/sistema/uploads/cotas/1690204278_f5069ee1a5f27921c41a.pdf', 'http://transparencia.caruaru.pe.leg.br/sistema/uploads/cotas/1690204389_41548f42698bb16144f9.pdf', 'http://transparencia.caruaru.pe.leg.br/sistema/uploads/cotas/1690204258_3a8a53cbd088da5e8c0b.pdf', 'http://transparencia.caruaru.pe.leg.br/sistema/uploads/cotas/1690204369_7487a61ace30ab32861b.pdf', 'http://transparencia.caruaru.pe.leg.br/sistema/uploads/cotas/1690204233_97895077913842f1d308.pdf', 'http://transparencia.caruaru.pe.leg.br/sistema/uploads/cotas/1690204351_a52b5b4e575f384977f6.pdf', 'http://transparencia.caruaru.pe.leg.br/sistema/uploads/cotas/1690204214_1b16a050653039a2a1b5.pdf', 'http://transparencia.caruaru.pe.leg.br/sistema/uploads/cotas/1690204331_b436553567aaa1074293.pdf', 'http://transparencia.caruaru.pe.leg.br/sistema/uploads/cotas/1690204195_89e8465a1608f0d15acd.pdf', 'http://transparencia.caruaru.pe.leg.br/sistema/uploads/cotas/1690204312_03524c2ecc733f9dd70e.pdf', 'http://transparencia.caruaru.pe.leg.br/sistema/uploads/cotas/1690204170_53cc88100f51b5b43487.pdf', 'http://transparencia.caruaru.pe.leg.br/sistema/uploads/cotas/1690226094_7075f820fbdbac32f4bf.pdf', 'http://transparencia.caruaru.pe.leg.br/sistema/uploads/cotas/1690225899_789e2c1c7421bc028013.pdf', 'http://transparencia.caruaru.pe.leg.br/sistema/uploads/cotas/1690226043_91f095f94adfeb50a9ce.pdf', 'http://transparencia.caruaru.pe.leg.br/sistema/uploads/cotas/1690225878_b36a6ad926d799570895.pdf', 'http://transparencia.caruaru.pe.leg.br/sistema/uploads/cotas/1690226026_2b822fb4a97c33c8772d.pdf', 'http://transparencia.caruaru.pe.leg.br/sistema/uploads/cotas/1690225861_a81c902c97dc0c5c799f.pdf', 'http://transparencia.caruaru.pe.leg.br/sistema/uploads/cotas/1690226247_08f9ca610adab7e220b4.pdf', 'http://transparencia.caruaru.pe.leg.br/sistema/uploads/cotas/1690225841_2ec8a07a061182727b5b.pdf', 'http://transparencia.caruaru.pe.leg.br/sistema/uploads/cotas/1690226007_d594ef4baa11f735d197.pdf', 'http://transparencia.caruaru.pe.leg.br/sistema/uploads/cotas/1690225778_371bd8f40ea516b3bf8f.pdf', 'http://transparencia.caruaru.pe.leg.br/sistema/uploads/cotas/1690225984_603abb33aaed64da539c.pdf', 'http://transparencia.caruaru.pe.leg.br/sistema/uploads/cotas/1690225720_3c5a88998837a133e4e3.pdf', 'http://transparencia.caruaru.pe.leg.br/sistema/uploads/cotas/1690225964_c859d3f25c9d06157a81.pdf', 'http://transparencia.caruaru.pe.leg.br/sistema/uploads/cotas/1690225742_38cfa2c0969b14e83ea8.pdf', 'http://transparencia.caruaru.pe.leg.br/sistema/uploads/cotas/1690226869_b505b45b8d29b0cb9d64.pdf', 'http://transparencia.caruaru.pe.leg.br/sistema/uploads/cotas/1690226831_5ea3e44ab14071254996.pdf']\n"
     ]
    }
   ],
   "source": [
    "urls_doc = []\n",
    "\n",
    "base_url = \"http://transparencia.caruaru.pe.leg.br/sistema/uploads/cotas/\"\n",
    "\n",
    "for item in response.json()[\"rows\"]:\n",
    "    urls_doc.append(base_url + item[\"arquivo\"])\n",
    "\n",
    "print(urls_doc)"
   ]
  },
  {
   "cell_type": "code",
   "execution_count": 12,
   "id": "fe446380-cee0-446f-a45f-f79b79262a8f",
   "metadata": {},
   "outputs": [
    {
     "data": {
      "text/plain": [
       "32"
      ]
     },
     "execution_count": 12,
     "metadata": {},
     "output_type": "execute_result"
    }
   ],
   "source": [
    "len(urls_doc)\n"
   ]
  },
  {
   "cell_type": "markdown",
   "id": "7d5368e9-addd-4b45-9043-9f2af5772a96",
   "metadata": {},
   "source": [
    "## Resumo"
   ]
  },
  {
   "cell_type": "markdown",
   "id": "26ba4fda-a403-4bc0-a476-c0dd98612463",
   "metadata": {},
   "source": [
    "### Elementos de interesse"
   ]
  },
  {
   "cell_type": "markdown",
   "id": "cdc34567-b31e-47dd-916e-b9a9b5fd041e",
   "metadata": {},
   "source": [
    "Os dados que queremos obter estão contidos nos seguintes elementos:"
   ]
  },
  {
   "cell_type": "markdown",
   "id": "4a8a7c93-df12-4e34-be22-2516cd80752a",
   "metadata": {},
   "source": [
    "|NOME|PRESENTE NA PÁGINA|SELETOR|RELATIVO A|TIPO DE OBJETO|\n",
    "|----|------------------|-------|----------|--------------|\n",
    "|Botão de Acesso ao Documento que contém o link para o arquivo|Cota Para Atividade Parlamentar/Verba Idenizatoria|//table[@id=\"tabelaDados\"]//button[@class=\"btn btn-info btn-xs command-edit\"]/@onclick|Raiz|Elemento|\n",
    "|Data do Documento|Cota Para Atividade Parlamentar/Verba Idenizatoria|./tr[@data-row-id]/td[1]/text()|Tabela|Dado|\n",
    "|Descrição do Documento|Cota Para Atividade Parlamentar/Verba Idenizatoria|./tr[@data-row-id]/td[2]/text()|Tabela|Dado|"
   ]
  },
  {
   "cell_type": "markdown",
   "id": "ca6be99a-c9f3-4e8c-bb3b-3613d5de6962",
   "metadata": {},
   "source": [
    "### Requisições"
   ]
  },
  {
   "cell_type": "markdown",
   "id": "8ac847c9-aec4-45e6-a3e9-d49ad93ca4c7",
   "metadata": {},
   "source": [
    "Contudo, identificamos a possibilidade de acessarmos os dados diretamente através de uma única requisição ao servidor. Esta requisição é feita por uma url contendo uma query string que retorna os dados do servidor em formato JSON. A resposta é usada para gerar a tabela de dados apresentada na página e inclui, entre outros dados, a data do documento, a descrição e o nome do arquivo. Dessa forma, podemos acessar os dados sem interagir com a página em si, armazenar as informações e, o mais importante, montar a url que ultilizaremos para baixar o arquivo pdf e extrair seus dados na próxima etapa.\n",
    "\n",
    "Portanto, as requisições que faremos são as seguintes:"
   ]
  },
  {
   "cell_type": "markdown",
   "id": "a928bea4-2fc6-44da-9940-178833e482b3",
   "metadata": {},
   "source": [
    "|NOME|DE|PARA|TIPO DA REQUISIÇÃO|URL|FORMDATA|\n",
    "|----|--|----|------------------|---|--------|\n",
    "|Requisição inicial api|N/A|Acesso à api|GET|https://transparenciape.com.br/CamaraCaruaru/cotaAtividadeParlamentarClass.php?dataInicial=01/01/2000&dataFinal={end_date}&rowCount=-1|N/A|\n",
    "|Requisição ao documento pdf|Página para tabela de dados|Documento PDF|GET|http://transparencia.caruaru.pe.leg.br/sistema/uploads/cotas/{arquivo.pdf}|N/A|\n",
    "\n"
   ]
  },
  {
   "cell_type": "code",
   "execution_count": null,
   "id": "e737ec4e-16ab-46cb-a7e9-506e8a4f73cb",
   "metadata": {},
   "outputs": [],
   "source": []
  }
 ],
 "metadata": {
  "kernelspec": {
   "display_name": "Python 3 (ipykernel)",
   "language": "python",
   "name": "python3"
  },
  "language_info": {
   "codemirror_mode": {
    "name": "ipython",
    "version": 3
   },
   "file_extension": ".py",
   "mimetype": "text/x-python",
   "name": "python",
   "nbconvert_exporter": "python",
   "pygments_lexer": "ipython3",
   "version": "3.11.5"
  }
 },
 "nbformat": 4,
 "nbformat_minor": 5
}
